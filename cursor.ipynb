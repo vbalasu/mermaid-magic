{
 "cells": [
  {
   "cell_type": "markdown",
   "metadata": {},
   "source": [
    "# Cursor IDE"
   ]
  },
  {
   "cell_type": "markdown",
   "metadata": {},
   "source": [
    "### Cell Magic"
   ]
  },
  {
   "cell_type": "code",
   "execution_count": 6,
   "metadata": {
    "vscode": {
     "languageId": "html"
    }
   },
   "outputs": [],
   "source": [
    "from IPython.core.magic import register_cell_magic\n",
    "from IPython.display import display, HTML\n",
    "\n",
    "@register_cell_magic\n",
    "def mermaid(line, cell):\n",
    "    graph = cell\n",
    "\n",
    "    html = f\"\"\"\n",
    "    <div class=\"mermaid\">\n",
    "    {graph}\n",
    "    </div>\n",
    "\n",
    "    <script>\n",
    "      if (typeof mermaid === 'undefined') {{\n",
    "        var script = document.createElement('script');\n",
    "        script.src = \"https://cdn.jsdelivr.net/npm/mermaid/dist/mermaid.min.js\";\n",
    "        script.onload = () => mermaid.initialize({{ startOnLoad: true }});\n",
    "        document.head.appendChild(script);\n",
    "      }} else {{\n",
    "        mermaid.init();\n",
    "      }}\n",
    "    </script>\n",
    "    \"\"\"\n",
    "\n",
    "    display(HTML(html))"
   ]
  },
  {
   "cell_type": "code",
   "execution_count": 7,
   "metadata": {
    "vscode": {
     "languageId": "html"
    }
   },
   "outputs": [
    {
     "data": {
      "text/html": [
       "\n",
       "    <div class=\"mermaid\">\n",
       "    graph TD;\n",
       "    A[Start] --> B{Is it working?};\n",
       "    B -- Yes --> C[Great!];\n",
       "    B -- No --> D[Fix it];\n",
       "    D --> B;\n",
       "\n",
       "    </div>\n",
       "\n",
       "    <script>\n",
       "      if (typeof mermaid === 'undefined') {\n",
       "        var script = document.createElement('script');\n",
       "        script.src = \"https://cdn.jsdelivr.net/npm/mermaid/dist/mermaid.min.js\";\n",
       "        script.onload = () => mermaid.initialize({ startOnLoad: true });\n",
       "        document.head.appendChild(script);\n",
       "      } else {\n",
       "        mermaid.init();\n",
       "      }\n",
       "    </script>\n",
       "    "
      ],
      "text/plain": [
       "<IPython.core.display.HTML object>"
      ]
     },
     "metadata": {},
     "output_type": "display_data"
    }
   ],
   "source": [
    "%%mermaid\n",
    "graph TD;\n",
    "    A[Start] --> B{Is it working?};\n",
    "    B -- Yes --> C[Great!];\n",
    "    B -- No --> D[Fix it];\n",
    "    D --> B;"
   ]
  },
  {
   "cell_type": "markdown",
   "metadata": {
    "vscode": {
     "languageId": "html"
    }
   },
   "source": [
    "### Placeholder Replacement"
   ]
  },
  {
   "cell_type": "code",
   "execution_count": 8,
   "metadata": {
    "vscode": {
     "languageId": "html"
    }
   },
   "outputs": [
    {
     "data": {
      "text/html": [
       "\n",
       "<div class=\"mermaid\">\n",
       "\n",
       "graph TD;\n",
       "    A[Start] --> B{Is it working?};\n",
       "    B -- Yes --> C[Great!];\n",
       "    B -- No --> D[Fix it];\n",
       "    D --> B;\n",
       "\n",
       "</div>\n",
       "\n",
       "<script>\n",
       "  // Load Mermaid dynamically if not already loaded\n",
       "  if (typeof mermaid === 'undefined') {\n",
       "    var script = document.createElement('script');\n",
       "    script.src = \"https://cdn.jsdelivr.net/npm/mermaid/dist/mermaid.min.js\";\n",
       "    script.onload = () => mermaid.initialize({ startOnLoad: true });\n",
       "    document.head.appendChild(script);\n",
       "  } else {\n",
       "    mermaid.init();\n",
       "  }\n",
       "</script>\n"
      ],
      "text/plain": [
       "<IPython.core.display.HTML object>"
      ]
     },
     "metadata": {},
     "output_type": "display_data"
    }
   ],
   "source": [
    "from IPython.display import display, HTML\n",
    "\n",
    "graph = \"\"\"\n",
    "graph TD;\n",
    "    A[Start] --> B{Is it working?};\n",
    "    B -- Yes --> C[Great!];\n",
    "    B -- No --> D[Fix it];\n",
    "    D --> B;\n",
    "\"\"\"\n",
    "\n",
    "html = \"\"\"\n",
    "<div class=\"mermaid\">\n",
    "<<GRAPH>>\n",
    "</div>\n",
    "\n",
    "<script>\n",
    "  // Load Mermaid dynamically if not already loaded\n",
    "  if (typeof mermaid === 'undefined') {\n",
    "    var script = document.createElement('script');\n",
    "    script.src = \"https://cdn.jsdelivr.net/npm/mermaid/dist/mermaid.min.js\";\n",
    "    script.onload = () => mermaid.initialize({ startOnLoad: true });\n",
    "    document.head.appendChild(script);\n",
    "  } else {\n",
    "    mermaid.init();\n",
    "  }\n",
    "</script>\n",
    "\"\"\".replace('<<GRAPH>>', graph)\n",
    "\n",
    "display(HTML(html))"
   ]
  },
  {
   "cell_type": "markdown",
   "metadata": {},
   "source": [
    "### Hardcoded HTML"
   ]
  },
  {
   "cell_type": "code",
   "execution_count": 9,
   "metadata": {},
   "outputs": [
    {
     "data": {
      "text/html": [
       "\n",
       "<div class=\"mermaid\">\n",
       "graph TD;\n",
       "    A[Start] --> B{Is it working?};\n",
       "    B -- Yes --> C[Great!];\n",
       "    B -- No --> D[Fix it];\n",
       "    D --> B;\n",
       "</div>\n",
       "\n",
       "<script>\n",
       "  // Load Mermaid dynamically if not already loaded\n",
       "  if (typeof mermaid === 'undefined') {\n",
       "    var script = document.createElement('script');\n",
       "    script.src = \"https://cdn.jsdelivr.net/npm/mermaid/dist/mermaid.min.js\";\n",
       "    script.onload = () => mermaid.initialize({ startOnLoad: true });\n",
       "    document.head.appendChild(script);\n",
       "  } else {\n",
       "    mermaid.init();\n",
       "  }\n",
       "</script>\n"
      ],
      "text/plain": [
       "<IPython.core.display.HTML object>"
      ]
     },
     "metadata": {},
     "output_type": "display_data"
    }
   ],
   "source": [
    "from IPython.display import display, HTML\n",
    "\n",
    "html = \"\"\"\n",
    "<div class=\"mermaid\">\n",
    "graph TD;\n",
    "    A[Start] --> B{Is it working?};\n",
    "    B -- Yes --> C[Great!];\n",
    "    B -- No --> D[Fix it];\n",
    "    D --> B;\n",
    "</div>\n",
    "\n",
    "<script>\n",
    "  // Load Mermaid dynamically if not already loaded\n",
    "  if (typeof mermaid === 'undefined') {\n",
    "    var script = document.createElement('script');\n",
    "    script.src = \"https://cdn.jsdelivr.net/npm/mermaid/dist/mermaid.min.js\";\n",
    "    script.onload = () => mermaid.initialize({ startOnLoad: true });\n",
    "    document.head.appendChild(script);\n",
    "  } else {\n",
    "    mermaid.init();\n",
    "  }\n",
    "</script>\n",
    "\"\"\"\n",
    "\n",
    "display(HTML(html))"
   ]
  },
  {
   "cell_type": "code",
   "execution_count": 10,
   "metadata": {},
   "outputs": [
    {
     "data": {
      "text/html": [
       "\n",
       "<div class=\"mermaid\">\n",
       "graph TD;\n",
       "    A[Start] --> B{Is it working?};\n",
       "    B -- Yes --> C[Great!];\n",
       "    B -- No --> D[Fix it];\n",
       "    D --> B;\n",
       "</div>\n",
       "\n",
       "<script>\n",
       "  // Load Mermaid dynamically if not already loaded\n",
       "  if (typeof mermaid === 'undefined') {\n",
       "    var script = document.createElement('script');\n",
       "    script.src = \"https://cdn.jsdelivr.net/npm/mermaid/dist/mermaid.min.js\";\n",
       "    script.onload = () => mermaid.initialize({ startOnLoad: true });\n",
       "    document.head.appendChild(script);\n",
       "  } else {\n",
       "    mermaid.init();\n",
       "  }\n",
       "</script>\n"
      ],
      "text/plain": [
       "<IPython.core.display.HTML object>"
      ]
     },
     "execution_count": 10,
     "metadata": {},
     "output_type": "execute_result"
    }
   ],
   "source": [
    "HTML(html)"
   ]
  },
  {
   "cell_type": "code",
   "execution_count": null,
   "metadata": {},
   "outputs": [],
   "source": []
  }
 ],
 "metadata": {
  "kernelspec": {
   "display_name": "Python 3 (ipykernel)",
   "language": "python",
   "name": "python3"
  },
  "language_info": {
   "codemirror_mode": {
    "name": "ipython",
    "version": 3
   },
   "file_extension": ".py",
   "mimetype": "text/x-python",
   "name": "python",
   "nbconvert_exporter": "python",
   "pygments_lexer": "ipython3",
   "version": "3.12.8"
  }
 },
 "nbformat": 4,
 "nbformat_minor": 4
}
