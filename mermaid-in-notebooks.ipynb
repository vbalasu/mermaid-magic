{
 "cells": [
  {
   "cell_type": "markdown",
   "metadata": {
    "application/vnd.databricks.v1+cell": {
     "cellMetadata": {
      "byteLimit": 2048000,
      "rowLimit": 10000
     },
     "inputWidgets": {},
     "nuid": "31186e79-be42-418e-9033-3a55e838b88d",
     "showTitle": false,
     "tableResultSettingsMap": {},
     "title": ""
    }
   },
   "source": [
    "# Using Mermaid Diagrams in Databricks\n",
    "This notebook demonstrates how to create Mermaid diagrams in Databricks notebooks. Also works in Jupyter, VS Code, Cursor and other notebook environments"
   ]
  },
  {
   "cell_type": "code",
   "execution_count": 1,
   "metadata": {
    "application/vnd.databricks.v1+cell": {
     "cellMetadata": {
      "byteLimit": 2048000,
      "rowLimit": 10000
     },
     "inputWidgets": {},
     "nuid": "57047001-d07a-4294-b2df-726492ff78d1",
     "showTitle": false,
     "tableResultSettingsMap": {},
     "title": ""
    }
   },
   "outputs": [
    {
     "name": "stdout",
     "output_type": "stream",
     "text": [
      "Note: you may need to restart the kernel to use updated packages.\n"
     ]
    }
   ],
   "source": [
    "%pip install -qqq mermaid-magic"
   ]
  },
  {
   "cell_type": "code",
   "execution_count": 2,
   "metadata": {},
   "outputs": [],
   "source": [
    "%load_ext mermaid_magic"
   ]
  },
  {
   "cell_type": "markdown",
   "metadata": {
    "application/vnd.databricks.v1+cell": {
     "cellMetadata": {
      "byteLimit": 2048000,
      "rowLimit": 10000
     },
     "inputWidgets": {},
     "nuid": "772df1ca-c41e-4991-8a64-45307efa5beb",
     "showTitle": false,
     "tableResultSettingsMap": {},
     "title": ""
    }
   },
   "source": [
    "## Basic Flowchart Example"
   ]
  },
  {
   "cell_type": "code",
   "execution_count": 3,
   "metadata": {
    "application/vnd.databricks.v1+cell": {
     "cellMetadata": {
      "byteLimit": 2048000,
      "rowLimit": 10000
     },
     "inputWidgets": {},
     "nuid": "4dc7ce10-7478-4b67-861e-394f6eb40930",
     "showTitle": false,
     "tableResultSettingsMap": {},
     "title": ""
    }
   },
   "outputs": [
    {
     "data": {
      "text/html": [
       "\n",
       "    <div class=\"mermaid\">\n",
       "    graph TD\n",
       "    A[Start] --> B{Is it working?}\n",
       "    B -->|Yes| C[Great!]\n",
       "    B -->|No| D[Debug]\n",
       "    D --> B\n",
       "\n",
       "    </div>\n",
       "\n",
       "    <script>\n",
       "      if (typeof mermaid === 'undefined') {\n",
       "        var script = document.createElement('script');\n",
       "        script.src = \"https://cdn.jsdelivr.net/npm/mermaid/dist/mermaid.min.js\";\n",
       "        script.onload = () => mermaid.initialize({ startOnLoad: true });\n",
       "        document.head.appendChild(script);\n",
       "      } else {\n",
       "        mermaid.init();\n",
       "      }\n",
       "    </script>\n",
       "    "
      ],
      "text/plain": [
       "<IPython.core.display.HTML object>"
      ]
     },
     "metadata": {},
     "output_type": "display_data"
    }
   ],
   "source": [
    "%%mermaid\n",
    "graph TD\n",
    "    A[Start] --> B{Is it working?}\n",
    "    B -->|Yes| C[Great!]\n",
    "    B -->|No| D[Debug]\n",
    "    D --> B"
   ]
  },
  {
   "cell_type": "markdown",
   "metadata": {
    "application/vnd.databricks.v1+cell": {
     "cellMetadata": {
      "byteLimit": 2048000,
      "rowLimit": 10000
     },
     "inputWidgets": {},
     "nuid": "1e6fb856-01ca-48db-ab8e-38447ec62a2c",
     "showTitle": false,
     "tableResultSettingsMap": {},
     "title": ""
    }
   },
   "source": [
    "## Data Pipeline Example\n",
    "Let's create a more complex diagram showing a typical data pipeline in Databricks"
   ]
  },
  {
   "cell_type": "code",
   "execution_count": 4,
   "metadata": {
    "application/vnd.databricks.v1+cell": {
     "cellMetadata": {
      "byteLimit": 2048000,
      "rowLimit": 10000
     },
     "inputWidgets": {},
     "nuid": "7c7f2170-804f-4ecd-b9c9-ec759ac4fe23",
     "showTitle": false,
     "tableResultSettingsMap": {},
     "title": ""
    }
   },
   "outputs": [
    {
     "data": {
      "text/html": [
       "\n",
       "    <div class=\"mermaid\">\n",
       "    graph TD\n",
       "    A[Data Ingestion] --> B[Data Processing]\n",
       "    B --> C{Quality Check}\n",
       "    C -->|Pass| D[Feature Engineering]\n",
       "    C -->|Fail| E[Error Handling]\n",
       "    D --> F[Model Training]\n",
       "    F --> G[Model Evaluation]\n",
       "    G -->|Metrics Meet Threshold| H[Model Deployment]\n",
       "    G -->|Metrics Below Threshold| F\n",
       "    E --> A\n",
       "\n",
       "    </div>\n",
       "\n",
       "    <script>\n",
       "      if (typeof mermaid === 'undefined') {\n",
       "        var script = document.createElement('script');\n",
       "        script.src = \"https://cdn.jsdelivr.net/npm/mermaid/dist/mermaid.min.js\";\n",
       "        script.onload = () => mermaid.initialize({ startOnLoad: true });\n",
       "        document.head.appendChild(script);\n",
       "      } else {\n",
       "        mermaid.init();\n",
       "      }\n",
       "    </script>\n",
       "    "
      ],
      "text/plain": [
       "<IPython.core.display.HTML object>"
      ]
     },
     "metadata": {},
     "output_type": "display_data"
    }
   ],
   "source": [
    "%%mermaid\n",
    "graph TD\n",
    "    A[Data Ingestion] --> B[Data Processing]\n",
    "    B --> C{Quality Check}\n",
    "    C -->|Pass| D[Feature Engineering]\n",
    "    C -->|Fail| E[Error Handling]\n",
    "    D --> F[Model Training]\n",
    "    F --> G[Model Evaluation]\n",
    "    G -->|Metrics Meet Threshold| H[Model Deployment]\n",
    "    G -->|Metrics Below Threshold| F\n",
    "    E --> A"
   ]
  },
  {
   "cell_type": "markdown",
   "metadata": {
    "application/vnd.databricks.v1+cell": {
     "cellMetadata": {
      "byteLimit": 2048000,
      "rowLimit": 10000
     },
     "inputWidgets": {},
     "nuid": "bd20e790-eaef-4f26-a5dd-44777f459dc1",
     "showTitle": false,
     "tableResultSettingsMap": {},
     "title": ""
    }
   },
   "source": [
    "## Sequence Diagram Example\n",
    "Sequence diagrams are useful for showing the interaction between different components"
   ]
  },
  {
   "cell_type": "code",
   "execution_count": 5,
   "metadata": {
    "application/vnd.databricks.v1+cell": {
     "cellMetadata": {
      "byteLimit": 2048000,
      "rowLimit": 10000
     },
     "inputWidgets": {},
     "nuid": "781a0365-11ab-4c87-8839-115397761780",
     "showTitle": false,
     "tableResultSettingsMap": {},
     "title": ""
    }
   },
   "outputs": [
    {
     "data": {
      "text/html": [
       "\n",
       "    <div class=\"mermaid\">\n",
       "    sequenceDiagram\n",
       "    participant User\n",
       "    participant Databricks\n",
       "    participant DataLake\n",
       "    participant ML\n",
       "    \n",
       "    User->>Databricks: Execute notebook\n",
       "    Databricks->>DataLake: Query data\n",
       "    DataLake-->>Databricks: Return dataset\n",
       "    Databricks->>ML: Train model\n",
       "    ML-->>Databricks: Return model\n",
       "    Databricks-->>User: Display results\n",
       "\n",
       "    </div>\n",
       "\n",
       "    <script>\n",
       "      if (typeof mermaid === 'undefined') {\n",
       "        var script = document.createElement('script');\n",
       "        script.src = \"https://cdn.jsdelivr.net/npm/mermaid/dist/mermaid.min.js\";\n",
       "        script.onload = () => mermaid.initialize({ startOnLoad: true });\n",
       "        document.head.appendChild(script);\n",
       "      } else {\n",
       "        mermaid.init();\n",
       "      }\n",
       "    </script>\n",
       "    "
      ],
      "text/plain": [
       "<IPython.core.display.HTML object>"
      ]
     },
     "metadata": {},
     "output_type": "display_data"
    }
   ],
   "source": [
    "%%mermaid\n",
    "sequenceDiagram\n",
    "    participant User\n",
    "    participant Databricks\n",
    "    participant DataLake\n",
    "    participant ML\n",
    "    \n",
    "    User->>Databricks: Execute notebook\n",
    "    Databricks->>DataLake: Query data\n",
    "    DataLake-->>Databricks: Return dataset\n",
    "    Databricks->>ML: Train model\n",
    "    ML-->>Databricks: Return model\n",
    "    Databricks-->>User: Display results"
   ]
  },
  {
   "cell_type": "markdown",
   "metadata": {
    "application/vnd.databricks.v1+cell": {
     "cellMetadata": {
      "byteLimit": 2048000,
      "rowLimit": 10000
     },
     "inputWidgets": {},
     "nuid": "dd66d4a5-edb6-4505-8286-13f42facbdb0",
     "showTitle": false,
     "tableResultSettingsMap": {},
     "title": ""
    }
   },
   "source": [
    "## Class Diagram\n",
    "Class diagrams can be useful for showing the structure of your code"
   ]
  },
  {
   "cell_type": "code",
   "execution_count": 7,
   "metadata": {
    "application/vnd.databricks.v1+cell": {
     "cellMetadata": {
      "byteLimit": 2048000,
      "rowLimit": 10000
     },
     "inputWidgets": {},
     "nuid": "8c86fe28-ba62-488d-b6f0-6cc0c4b8c842",
     "showTitle": false,
     "tableResultSettingsMap": {},
     "title": ""
    }
   },
   "outputs": [
    {
     "data": {
      "text/html": [
       "\n",
       "    <div class=\"mermaid\">\n",
       "    classDiagram\n",
       "    class DataProcessor {\n",
       "        +DataFrame data\n",
       "        +process_data()\n",
       "        +validate_schema()\n",
       "    }\n",
       "    \n",
       "    class FeatureEngineering {\n",
       "        +create_features()\n",
       "        +scale_features()\n",
       "    }\n",
       "    \n",
       "    class ModelTrainer {\n",
       "        +train()\n",
       "        +evaluate()\n",
       "        +save_model()\n",
       "    }\n",
       "    \n",
       "    DataProcessor --> FeatureEngineering\n",
       "    FeatureEngineering --> ModelTrainer\n",
       "\n",
       "    </div>\n",
       "\n",
       "    <script>\n",
       "      if (typeof mermaid === 'undefined') {\n",
       "        var script = document.createElement('script');\n",
       "        script.src = \"https://cdn.jsdelivr.net/npm/mermaid/dist/mermaid.min.js\";\n",
       "        script.onload = () => mermaid.initialize({ startOnLoad: true });\n",
       "        document.head.appendChild(script);\n",
       "      } else {\n",
       "        mermaid.init();\n",
       "      }\n",
       "    </script>\n",
       "    "
      ],
      "text/plain": [
       "<IPython.core.display.HTML object>"
      ]
     },
     "metadata": {},
     "output_type": "display_data"
    }
   ],
   "source": [
    "%%mermaid\n",
    "classDiagram\n",
    "    class DataProcessor {\n",
    "        +DataFrame data\n",
    "        +process_data()\n",
    "        +validate_schema()\n",
    "    }\n",
    "    \n",
    "    class FeatureEngineering {\n",
    "        +create_features()\n",
    "        +scale_features()\n",
    "    }\n",
    "    \n",
    "    class ModelTrainer {\n",
    "        +train()\n",
    "        +evaluate()\n",
    "        +save_model()\n",
    "    }\n",
    "    \n",
    "    DataProcessor --> FeatureEngineering\n",
    "    FeatureEngineering --> ModelTrainer"
   ]
  },
  {
   "cell_type": "markdown",
   "metadata": {
    "application/vnd.databricks.v1+cell": {
     "cellMetadata": {
      "byteLimit": 2048000,
      "rowLimit": 10000
     },
     "inputWidgets": {},
     "nuid": "88464795-1c20-4635-90ed-b116c06ac4af",
     "showTitle": false,
     "tableResultSettingsMap": {},
     "title": ""
    }
   },
   "source": [
    "## Entity Relationship Diagram\n",
    "ER diagrams are useful for database schema visualization"
   ]
  },
  {
   "cell_type": "code",
   "execution_count": 9,
   "metadata": {
    "application/vnd.databricks.v1+cell": {
     "cellMetadata": {
      "byteLimit": 2048000,
      "rowLimit": 10000
     },
     "inputWidgets": {},
     "nuid": "8742e5c8-2b10-4b82-a0f2-67938806d59b",
     "showTitle": false,
     "tableResultSettingsMap": {},
     "title": ""
    }
   },
   "outputs": [
    {
     "data": {
      "text/html": [
       "\n",
       "    <div class=\"mermaid\">\n",
       "    erDiagram\n",
       "    CUSTOMER ||--o{ ORDER : places\n",
       "    ORDER ||--|{ LINE-ITEM : contains\n",
       "    CUSTOMER }|--|{ DELIVERY-ADDRESS : uses\n",
       "\n",
       "    </div>\n",
       "\n",
       "    <script>\n",
       "      if (typeof mermaid === 'undefined') {\n",
       "        var script = document.createElement('script');\n",
       "        script.src = \"https://cdn.jsdelivr.net/npm/mermaid/dist/mermaid.min.js\";\n",
       "        script.onload = () => mermaid.initialize({ startOnLoad: true });\n",
       "        document.head.appendChild(script);\n",
       "      } else {\n",
       "        mermaid.init();\n",
       "      }\n",
       "    </script>\n",
       "    "
      ],
      "text/plain": [
       "<IPython.core.display.HTML object>"
      ]
     },
     "metadata": {},
     "output_type": "display_data"
    }
   ],
   "source": [
    "%%mermaid\n",
    "erDiagram\n",
    "    CUSTOMER ||--o{ ORDER : places\n",
    "    ORDER ||--|{ LINE-ITEM : contains\n",
    "    CUSTOMER }|--|{ DELIVERY-ADDRESS : uses"
   ]
  },
  {
   "cell_type": "markdown",
   "metadata": {
    "application/vnd.databricks.v1+cell": {
     "cellMetadata": {
      "byteLimit": 2048000,
      "rowLimit": 10000
     },
     "inputWidgets": {},
     "nuid": "18ffa505-921c-4148-9c29-ddc0229aec84",
     "showTitle": false,
     "tableResultSettingsMap": {},
     "title": ""
    }
   },
   "source": [
    "## Gantt Chart\n",
    "Gantt charts are useful for project planning and scheduling"
   ]
  },
  {
   "cell_type": "code",
   "execution_count": 10,
   "metadata": {
    "application/vnd.databricks.v1+cell": {
     "cellMetadata": {
      "byteLimit": 2048000,
      "rowLimit": 10000
     },
     "inputWidgets": {},
     "nuid": "41cdfd14-4dc4-404e-b126-1312a5dc2cf0",
     "showTitle": false,
     "tableResultSettingsMap": {},
     "title": ""
    }
   },
   "outputs": [
    {
     "data": {
      "text/html": [
       "\n",
       "    <div class=\"mermaid\">\n",
       "    gantt\n",
       "    title Project Timeline\n",
       "    dateFormat  YYYY-MM-DD\n",
       "    section Planning\n",
       "    Requirements gathering :a1, 2023-01-01, 10d\n",
       "    Design phase           :a2, after a1, 15d\n",
       "    section Development\n",
       "    Coding                 :a3, after a2, 25d\n",
       "    Testing                :a4, after a3, 10d\n",
       "    section Deployment\n",
       "    Deployment preparation :a5, after a4, 5d\n",
       "    Go-live                :milestone, after a5, 0d\n",
       "\n",
       "    </div>\n",
       "\n",
       "    <script>\n",
       "      if (typeof mermaid === 'undefined') {\n",
       "        var script = document.createElement('script');\n",
       "        script.src = \"https://cdn.jsdelivr.net/npm/mermaid/dist/mermaid.min.js\";\n",
       "        script.onload = () => mermaid.initialize({ startOnLoad: true });\n",
       "        document.head.appendChild(script);\n",
       "      } else {\n",
       "        mermaid.init();\n",
       "      }\n",
       "    </script>\n",
       "    "
      ],
      "text/plain": [
       "<IPython.core.display.HTML object>"
      ]
     },
     "metadata": {},
     "output_type": "display_data"
    }
   ],
   "source": [
    "%%mermaid\n",
    "gantt\n",
    "    title Project Timeline\n",
    "    dateFormat  YYYY-MM-DD\n",
    "    section Planning\n",
    "    Requirements gathering :a1, 2023-01-01, 10d\n",
    "    Design phase           :a2, after a1, 15d\n",
    "    section Development\n",
    "    Coding                 :a3, after a2, 25d\n",
    "    Testing                :a4, after a3, 10d\n",
    "    section Deployment\n",
    "    Deployment preparation :a5, after a4, 5d\n",
    "    Go-live                :milestone, after a5, 0d"
   ]
  },
  {
   "cell_type": "markdown",
   "metadata": {
    "application/vnd.databricks.v1+cell": {
     "cellMetadata": {
      "byteLimit": 2048000,
      "rowLimit": 10000
     },
     "inputWidgets": {},
     "nuid": "ec30f1e5-8e84-4212-abaf-f2d9fa698cea",
     "showTitle": false,
     "tableResultSettingsMap": {},
     "title": ""
    }
   },
   "source": [
    "## State Diagram\n",
    "State diagrams are useful for showing the different states of a process or system"
   ]
  },
  {
   "cell_type": "code",
   "execution_count": 13,
   "metadata": {
    "application/vnd.databricks.v1+cell": {
     "cellMetadata": {
      "byteLimit": 2048000,
      "rowLimit": 10000
     },
     "inputWidgets": {},
     "nuid": "55d53444-86b5-4efe-895a-74a0cabbaf0c",
     "showTitle": false,
     "tableResultSettingsMap": {},
     "title": ""
    }
   },
   "outputs": [
    {
     "data": {
      "text/html": [
       "\n",
       "    <div class=\"mermaid\">\n",
       "    stateDiagram-v2\n",
       "    [*] --> Idle\n",
       "    Idle --> Processing: New data\n",
       "    Processing --> Completed: Successful\n",
       "    Processing --> Failed: Error\n",
       "    Completed --> [*]\n",
       "    Failed --> Idle: Retry\n",
       "\n",
       "    </div>\n",
       "\n",
       "    <script>\n",
       "      if (typeof mermaid === 'undefined') {\n",
       "        var script = document.createElement('script');\n",
       "        script.src = \"https://cdn.jsdelivr.net/npm/mermaid/dist/mermaid.min.js\";\n",
       "        script.onload = () => mermaid.initialize({ startOnLoad: true });\n",
       "        document.head.appendChild(script);\n",
       "      } else {\n",
       "        mermaid.init();\n",
       "      }\n",
       "    </script>\n",
       "    "
      ],
      "text/plain": [
       "<IPython.core.display.HTML object>"
      ]
     },
     "metadata": {},
     "output_type": "display_data"
    }
   ],
   "source": [
    "%%mermaid\n",
    "stateDiagram-v2\n",
    "    [*] --> Idle\n",
    "    Idle --> Processing: New data\n",
    "    Processing --> Completed: Successful\n",
    "    Processing --> Failed: Error\n",
    "    Completed --> [*]\n",
    "    Failed --> Idle: Retry"
   ]
  },
  {
   "cell_type": "markdown",
   "metadata": {
    "application/vnd.databricks.v1+cell": {
     "cellMetadata": {
      "byteLimit": 2048000,
      "rowLimit": 10000
     },
     "inputWidgets": {},
     "nuid": "293b0ed0-7ffe-4601-bcc8-4e6d0e399492",
     "showTitle": false,
     "tableResultSettingsMap": {},
     "title": ""
    }
   },
   "source": [
    "## Pie Chart"
   ]
  },
  {
   "cell_type": "code",
   "execution_count": 16,
   "metadata": {
    "application/vnd.databricks.v1+cell": {
     "cellMetadata": {
      "byteLimit": 2048000,
      "rowLimit": 10000
     },
     "inputWidgets": {},
     "nuid": "10667f02-fe67-45c7-9589-99f1531031bd",
     "showTitle": false,
     "tableResultSettingsMap": {},
     "title": ""
    }
   },
   "outputs": [
    {
     "data": {
      "text/html": [
       "\n",
       "    <div class=\"mermaid\">\n",
       "    pie title Programming Languages\n",
       "    \"Python\" : 40\n",
       "    \"SQL\" : 30\n",
       "    \"Scala\" : 20\n",
       "    \"R\" : 10\n",
       "\n",
       "    </div>\n",
       "\n",
       "    <script>\n",
       "      if (typeof mermaid === 'undefined') {\n",
       "        var script = document.createElement('script');\n",
       "        script.src = \"https://cdn.jsdelivr.net/npm/mermaid/dist/mermaid.min.js\";\n",
       "        script.onload = () => mermaid.initialize({ startOnLoad: true });\n",
       "        document.head.appendChild(script);\n",
       "      } else {\n",
       "        mermaid.init();\n",
       "      }\n",
       "    </script>\n",
       "    "
      ],
      "text/plain": [
       "<IPython.core.display.HTML object>"
      ]
     },
     "metadata": {},
     "output_type": "display_data"
    }
   ],
   "source": [
    "%%mermaid\n",
    "pie title Programming Languages\n",
    "    \"Python\" : 40\n",
    "    \"SQL\" : 30\n",
    "    \"Scala\" : 20\n",
    "    \"R\" : 10"
   ]
  },
  {
   "cell_type": "markdown",
   "metadata": {
    "application/vnd.databricks.v1+cell": {
     "cellMetadata": {
      "byteLimit": 2048000,
      "rowLimit": 10000
     },
     "inputWidgets": {},
     "nuid": "28a994a5-ef91-4c77-9bac-d35ce815cc51",
     "showTitle": false,
     "tableResultSettingsMap": {},
     "title": ""
    }
   },
   "source": [
    "## Conclusion\n",
    "These examples show various ways to create Mermaid diagrams in Databricks. You can use these techniques to:\n",
    "\n",
    "- Visualize data processes\n",
    "- Document workflows\n",
    "- Create architecture diagrams\n",
    "- Plan project timelines\n",
    "\n",
    "For more information on Mermaid syntax, visit [the Mermaid documentation](https://mermaid-js.github.io/mermaid/#/)."
   ]
  }
 ],
 "metadata": {
  "application/vnd.databricks.v1+notebook": {
   "computePreferences": null,
   "dashboards": [],
   "environmentMetadata": null,
   "inputWidgetPreferences": null,
   "language": "python",
   "notebookMetadata": {
    "pythonIndentUnit": 4
   },
   "notebookName": "mermaid-in-notebooks",
   "widgets": {}
  },
  "kernelspec": {
   "display_name": "base",
   "language": "python",
   "name": "python3"
  },
  "language_info": {
   "codemirror_mode": {
    "name": "ipython",
    "version": 3
   },
   "file_extension": ".py",
   "mimetype": "text/x-python",
   "name": "python",
   "nbconvert_exporter": "python",
   "pygments_lexer": "ipython3",
   "version": "3.12.8"
  }
 },
 "nbformat": 4,
 "nbformat_minor": 0
}
