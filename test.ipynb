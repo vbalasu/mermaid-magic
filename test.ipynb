{
 "cells": [
  {
   "cell_type": "code",
   "execution_count": 5,
   "metadata": {},
   "outputs": [
    {
     "name": "stdout",
     "output_type": "stream",
     "text": [
      "The mermaid_magic extension is already loaded. To reload it, use:\n",
      "  %reload_ext mermaid_magic\n"
     ]
    }
   ],
   "source": [
    "%load_ext mermaid_magic"
   ]
  },
  {
   "cell_type": "code",
   "execution_count": 6,
   "metadata": {},
   "outputs": [
    {
     "data": {
      "text/html": [
       "\n",
       "    <div class=\"mermaid\">\n",
       "    graph TD;\n",
       "    A[Start] --> B{Is it working?};\n",
       "    B -- Yes --> C[Great!];\n",
       "    B -- No --> D[Fix it];\n",
       "    D --> B;\n",
       "\n",
       "    </div>\n",
       "\n",
       "    <script>\n",
       "      if (typeof mermaid === 'undefined') {\n",
       "        var script = document.createElement('script');\n",
       "        script.src = \"https://cdn.jsdelivr.net/npm/mermaid/dist/mermaid.min.js\";\n",
       "        script.onload = () => mermaid.initialize({ startOnLoad: true });\n",
       "        document.head.appendChild(script);\n",
       "      } else {\n",
       "        mermaid.init();\n",
       "      }\n",
       "    </script>\n",
       "    "
      ],
      "text/plain": [
       "<IPython.core.display.HTML object>"
      ]
     },
     "metadata": {},
     "output_type": "display_data"
    }
   ],
   "source": [
    "%%mermaid\n",
    "graph TD;\n",
    "    A[Start] --> B{Is it working?};\n",
    "    B -- Yes --> C[Great!];\n",
    "    B -- No --> D[Fix it];\n",
    "    D --> B;"
   ]
  },
  {
   "cell_type": "code",
   "execution_count": null,
   "metadata": {},
   "outputs": [],
   "source": []
  }
 ],
 "metadata": {
  "kernelspec": {
   "display_name": "base",
   "language": "python",
   "name": "python3"
  },
  "language_info": {
   "codemirror_mode": {
    "name": "ipython",
    "version": 3
   },
   "file_extension": ".py",
   "mimetype": "text/x-python",
   "name": "python",
   "nbconvert_exporter": "python",
   "pygments_lexer": "ipython3",
   "version": "3.12.8"
  }
 },
 "nbformat": 4,
 "nbformat_minor": 2
}
